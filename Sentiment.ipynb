{
  "nbformat": 4,
  "nbformat_minor": 0,
  "metadata": {
    "kernelspec": {
      "name": "python3",
      "display_name": "Python 3"
    },
    "colab": {
      "name": "Sentiment.ipynb",
      "provenance": []
    },
    "accelerator": "GPU",
    "language_info": {
      "name": "python"
    },
    "widgets": {
      "application/vnd.jupyter.widget-state+json": {
        "cddf0f59d1ae4a77ada1dbad8146e035": {
          "model_module": "@jupyter-widgets/controls",
          "model_name": "HBoxModel",
          "state": {
            "_view_name": "HBoxView",
            "_dom_classes": [],
            "_model_name": "HBoxModel",
            "_view_module": "@jupyter-widgets/controls",
            "_model_module_version": "1.5.0",
            "_view_count": null,
            "_view_module_version": "1.5.0",
            "box_style": "",
            "layout": "IPY_MODEL_031f79f4bab74b759bae8637a910d078",
            "_model_module": "@jupyter-widgets/controls",
            "children": [
              "IPY_MODEL_aafec31901364f40970f1d6e3d5227b4",
              "IPY_MODEL_becab0a042e14d79ba5a13d2c08d06e8"
            ]
          }
        },
        "031f79f4bab74b759bae8637a910d078": {
          "model_module": "@jupyter-widgets/base",
          "model_name": "LayoutModel",
          "state": {
            "_view_name": "LayoutView",
            "grid_template_rows": null,
            "right": null,
            "justify_content": null,
            "_view_module": "@jupyter-widgets/base",
            "overflow": null,
            "_model_module_version": "1.2.0",
            "_view_count": null,
            "flex_flow": null,
            "width": null,
            "min_width": null,
            "border": null,
            "align_items": null,
            "bottom": null,
            "_model_module": "@jupyter-widgets/base",
            "top": null,
            "grid_column": null,
            "overflow_y": null,
            "overflow_x": null,
            "grid_auto_flow": null,
            "grid_area": null,
            "grid_template_columns": null,
            "flex": null,
            "_model_name": "LayoutModel",
            "justify_items": null,
            "grid_row": null,
            "max_height": null,
            "align_content": null,
            "visibility": null,
            "align_self": null,
            "height": null,
            "min_height": null,
            "padding": null,
            "grid_auto_rows": null,
            "grid_gap": null,
            "max_width": null,
            "order": null,
            "_view_module_version": "1.2.0",
            "grid_template_areas": null,
            "object_position": null,
            "object_fit": null,
            "grid_auto_columns": null,
            "margin": null,
            "display": null,
            "left": null
          }
        },
        "aafec31901364f40970f1d6e3d5227b4": {
          "model_module": "@jupyter-widgets/controls",
          "model_name": "FloatProgressModel",
          "state": {
            "_view_name": "ProgressView",
            "style": "IPY_MODEL_252a23923ead413182b6de79314ed77d",
            "_dom_classes": [],
            "description": "Downloading: 100%",
            "_model_name": "FloatProgressModel",
            "bar_style": "success",
            "max": 953,
            "_view_module": "@jupyter-widgets/controls",
            "_model_module_version": "1.5.0",
            "value": 953,
            "_view_count": null,
            "_view_module_version": "1.5.0",
            "orientation": "horizontal",
            "min": 0,
            "description_tooltip": null,
            "_model_module": "@jupyter-widgets/controls",
            "layout": "IPY_MODEL_a1568f7f374548859ab971a0003473a0"
          }
        },
        "becab0a042e14d79ba5a13d2c08d06e8": {
          "model_module": "@jupyter-widgets/controls",
          "model_name": "HTMLModel",
          "state": {
            "_view_name": "HTMLView",
            "style": "IPY_MODEL_6e6c633933bc41ffbd61de43c2bfe468",
            "_dom_classes": [],
            "description": "",
            "_model_name": "HTMLModel",
            "placeholder": "​",
            "_view_module": "@jupyter-widgets/controls",
            "_model_module_version": "1.5.0",
            "value": " 953/953 [00:00&lt;00:00, 9.17kB/s]",
            "_view_count": null,
            "_view_module_version": "1.5.0",
            "description_tooltip": null,
            "_model_module": "@jupyter-widgets/controls",
            "layout": "IPY_MODEL_ba3a981639234e388a7dd8b53c1d0e82"
          }
        },
        "252a23923ead413182b6de79314ed77d": {
          "model_module": "@jupyter-widgets/controls",
          "model_name": "ProgressStyleModel",
          "state": {
            "_view_name": "StyleView",
            "_model_name": "ProgressStyleModel",
            "description_width": "initial",
            "_view_module": "@jupyter-widgets/base",
            "_model_module_version": "1.5.0",
            "_view_count": null,
            "_view_module_version": "1.2.0",
            "bar_color": null,
            "_model_module": "@jupyter-widgets/controls"
          }
        },
        "a1568f7f374548859ab971a0003473a0": {
          "model_module": "@jupyter-widgets/base",
          "model_name": "LayoutModel",
          "state": {
            "_view_name": "LayoutView",
            "grid_template_rows": null,
            "right": null,
            "justify_content": null,
            "_view_module": "@jupyter-widgets/base",
            "overflow": null,
            "_model_module_version": "1.2.0",
            "_view_count": null,
            "flex_flow": null,
            "width": null,
            "min_width": null,
            "border": null,
            "align_items": null,
            "bottom": null,
            "_model_module": "@jupyter-widgets/base",
            "top": null,
            "grid_column": null,
            "overflow_y": null,
            "overflow_x": null,
            "grid_auto_flow": null,
            "grid_area": null,
            "grid_template_columns": null,
            "flex": null,
            "_model_name": "LayoutModel",
            "justify_items": null,
            "grid_row": null,
            "max_height": null,
            "align_content": null,
            "visibility": null,
            "align_self": null,
            "height": null,
            "min_height": null,
            "padding": null,
            "grid_auto_rows": null,
            "grid_gap": null,
            "max_width": null,
            "order": null,
            "_view_module_version": "1.2.0",
            "grid_template_areas": null,
            "object_position": null,
            "object_fit": null,
            "grid_auto_columns": null,
            "margin": null,
            "display": null,
            "left": null
          }
        },
        "6e6c633933bc41ffbd61de43c2bfe468": {
          "model_module": "@jupyter-widgets/controls",
          "model_name": "DescriptionStyleModel",
          "state": {
            "_view_name": "StyleView",
            "_model_name": "DescriptionStyleModel",
            "description_width": "",
            "_view_module": "@jupyter-widgets/base",
            "_model_module_version": "1.5.0",
            "_view_count": null,
            "_view_module_version": "1.2.0",
            "_model_module": "@jupyter-widgets/controls"
          }
        },
        "ba3a981639234e388a7dd8b53c1d0e82": {
          "model_module": "@jupyter-widgets/base",
          "model_name": "LayoutModel",
          "state": {
            "_view_name": "LayoutView",
            "grid_template_rows": null,
            "right": null,
            "justify_content": null,
            "_view_module": "@jupyter-widgets/base",
            "overflow": null,
            "_model_module_version": "1.2.0",
            "_view_count": null,
            "flex_flow": null,
            "width": null,
            "min_width": null,
            "border": null,
            "align_items": null,
            "bottom": null,
            "_model_module": "@jupyter-widgets/base",
            "top": null,
            "grid_column": null,
            "overflow_y": null,
            "overflow_x": null,
            "grid_auto_flow": null,
            "grid_area": null,
            "grid_template_columns": null,
            "flex": null,
            "_model_name": "LayoutModel",
            "justify_items": null,
            "grid_row": null,
            "max_height": null,
            "align_content": null,
            "visibility": null,
            "align_self": null,
            "height": null,
            "min_height": null,
            "padding": null,
            "grid_auto_rows": null,
            "grid_gap": null,
            "max_width": null,
            "order": null,
            "_view_module_version": "1.2.0",
            "grid_template_areas": null,
            "object_position": null,
            "object_fit": null,
            "grid_auto_columns": null,
            "margin": null,
            "display": null,
            "left": null
          }
        },
        "ab7e641b095e45b7842c039f52bf57bb": {
          "model_module": "@jupyter-widgets/controls",
          "model_name": "HBoxModel",
          "state": {
            "_view_name": "HBoxView",
            "_dom_classes": [],
            "_model_name": "HBoxModel",
            "_view_module": "@jupyter-widgets/controls",
            "_model_module_version": "1.5.0",
            "_view_count": null,
            "_view_module_version": "1.5.0",
            "box_style": "",
            "layout": "IPY_MODEL_d2cbc1f9666847729943a8f9575929bb",
            "_model_module": "@jupyter-widgets/controls",
            "children": [
              "IPY_MODEL_ce2bcbd56b6d493c8a67f97d9050f7cb",
              "IPY_MODEL_bdaab2dcdb254df0936bc5ab6c875101"
            ]
          }
        },
        "d2cbc1f9666847729943a8f9575929bb": {
          "model_module": "@jupyter-widgets/base",
          "model_name": "LayoutModel",
          "state": {
            "_view_name": "LayoutView",
            "grid_template_rows": null,
            "right": null,
            "justify_content": null,
            "_view_module": "@jupyter-widgets/base",
            "overflow": null,
            "_model_module_version": "1.2.0",
            "_view_count": null,
            "flex_flow": null,
            "width": null,
            "min_width": null,
            "border": null,
            "align_items": null,
            "bottom": null,
            "_model_module": "@jupyter-widgets/base",
            "top": null,
            "grid_column": null,
            "overflow_y": null,
            "overflow_x": null,
            "grid_auto_flow": null,
            "grid_area": null,
            "grid_template_columns": null,
            "flex": null,
            "_model_name": "LayoutModel",
            "justify_items": null,
            "grid_row": null,
            "max_height": null,
            "align_content": null,
            "visibility": null,
            "align_self": null,
            "height": null,
            "min_height": null,
            "padding": null,
            "grid_auto_rows": null,
            "grid_gap": null,
            "max_width": null,
            "order": null,
            "_view_module_version": "1.2.0",
            "grid_template_areas": null,
            "object_position": null,
            "object_fit": null,
            "grid_auto_columns": null,
            "margin": null,
            "display": null,
            "left": null
          }
        },
        "ce2bcbd56b6d493c8a67f97d9050f7cb": {
          "model_module": "@jupyter-widgets/controls",
          "model_name": "FloatProgressModel",
          "state": {
            "_view_name": "ProgressView",
            "style": "IPY_MODEL_0cd84830608a4b33baf066a50065946d",
            "_dom_classes": [],
            "description": "Downloading: 100%",
            "_model_name": "FloatProgressModel",
            "bar_style": "success",
            "max": 871891,
            "_view_module": "@jupyter-widgets/controls",
            "_model_module_version": "1.5.0",
            "value": 871891,
            "_view_count": null,
            "_view_module_version": "1.5.0",
            "orientation": "horizontal",
            "min": 0,
            "description_tooltip": null,
            "_model_module": "@jupyter-widgets/controls",
            "layout": "IPY_MODEL_fc9c864ed3e04136b3274f9c266d392b"
          }
        },
        "bdaab2dcdb254df0936bc5ab6c875101": {
          "model_module": "@jupyter-widgets/controls",
          "model_name": "HTMLModel",
          "state": {
            "_view_name": "HTMLView",
            "style": "IPY_MODEL_31a00910a9f74691a4dfd1539d6da67f",
            "_dom_classes": [],
            "description": "",
            "_model_name": "HTMLModel",
            "placeholder": "​",
            "_view_module": "@jupyter-widgets/controls",
            "_model_module_version": "1.5.0",
            "value": " 872k/872k [00:00&lt;00:00, 2.15MB/s]",
            "_view_count": null,
            "_view_module_version": "1.5.0",
            "description_tooltip": null,
            "_model_module": "@jupyter-widgets/controls",
            "layout": "IPY_MODEL_c75b44e0d5b840c8b186a140d4c61b6a"
          }
        },
        "0cd84830608a4b33baf066a50065946d": {
          "model_module": "@jupyter-widgets/controls",
          "model_name": "ProgressStyleModel",
          "state": {
            "_view_name": "StyleView",
            "_model_name": "ProgressStyleModel",
            "description_width": "initial",
            "_view_module": "@jupyter-widgets/base",
            "_model_module_version": "1.5.0",
            "_view_count": null,
            "_view_module_version": "1.2.0",
            "bar_color": null,
            "_model_module": "@jupyter-widgets/controls"
          }
        },
        "fc9c864ed3e04136b3274f9c266d392b": {
          "model_module": "@jupyter-widgets/base",
          "model_name": "LayoutModel",
          "state": {
            "_view_name": "LayoutView",
            "grid_template_rows": null,
            "right": null,
            "justify_content": null,
            "_view_module": "@jupyter-widgets/base",
            "overflow": null,
            "_model_module_version": "1.2.0",
            "_view_count": null,
            "flex_flow": null,
            "width": null,
            "min_width": null,
            "border": null,
            "align_items": null,
            "bottom": null,
            "_model_module": "@jupyter-widgets/base",
            "top": null,
            "grid_column": null,
            "overflow_y": null,
            "overflow_x": null,
            "grid_auto_flow": null,
            "grid_area": null,
            "grid_template_columns": null,
            "flex": null,
            "_model_name": "LayoutModel",
            "justify_items": null,
            "grid_row": null,
            "max_height": null,
            "align_content": null,
            "visibility": null,
            "align_self": null,
            "height": null,
            "min_height": null,
            "padding": null,
            "grid_auto_rows": null,
            "grid_gap": null,
            "max_width": null,
            "order": null,
            "_view_module_version": "1.2.0",
            "grid_template_areas": null,
            "object_position": null,
            "object_fit": null,
            "grid_auto_columns": null,
            "margin": null,
            "display": null,
            "left": null
          }
        },
        "31a00910a9f74691a4dfd1539d6da67f": {
          "model_module": "@jupyter-widgets/controls",
          "model_name": "DescriptionStyleModel",
          "state": {
            "_view_name": "StyleView",
            "_model_name": "DescriptionStyleModel",
            "description_width": "",
            "_view_module": "@jupyter-widgets/base",
            "_model_module_version": "1.5.0",
            "_view_count": null,
            "_view_module_version": "1.2.0",
            "_model_module": "@jupyter-widgets/controls"
          }
        },
        "c75b44e0d5b840c8b186a140d4c61b6a": {
          "model_module": "@jupyter-widgets/base",
          "model_name": "LayoutModel",
          "state": {
            "_view_name": "LayoutView",
            "grid_template_rows": null,
            "right": null,
            "justify_content": null,
            "_view_module": "@jupyter-widgets/base",
            "overflow": null,
            "_model_module_version": "1.2.0",
            "_view_count": null,
            "flex_flow": null,
            "width": null,
            "min_width": null,
            "border": null,
            "align_items": null,
            "bottom": null,
            "_model_module": "@jupyter-widgets/base",
            "top": null,
            "grid_column": null,
            "overflow_y": null,
            "overflow_x": null,
            "grid_auto_flow": null,
            "grid_area": null,
            "grid_template_columns": null,
            "flex": null,
            "_model_name": "LayoutModel",
            "justify_items": null,
            "grid_row": null,
            "max_height": null,
            "align_content": null,
            "visibility": null,
            "align_self": null,
            "height": null,
            "min_height": null,
            "padding": null,
            "grid_auto_rows": null,
            "grid_gap": null,
            "max_width": null,
            "order": null,
            "_view_module_version": "1.2.0",
            "grid_template_areas": null,
            "object_position": null,
            "object_fit": null,
            "grid_auto_columns": null,
            "margin": null,
            "display": null,
            "left": null
          }
        },
        "6521b52fb83640d080823fee328a4a34": {
          "model_module": "@jupyter-widgets/controls",
          "model_name": "HBoxModel",
          "state": {
            "_view_name": "HBoxView",
            "_dom_classes": [],
            "_model_name": "HBoxModel",
            "_view_module": "@jupyter-widgets/controls",
            "_model_module_version": "1.5.0",
            "_view_count": null,
            "_view_module_version": "1.5.0",
            "box_style": "",
            "layout": "IPY_MODEL_057f520960f54f0b9f1f48b4093dd7d9",
            "_model_module": "@jupyter-widgets/controls",
            "children": [
              "IPY_MODEL_7a4370204d184fea9432b73819e3a430",
              "IPY_MODEL_00c066f7f96e4567aee640a3796f9fc9"
            ]
          }
        },
        "057f520960f54f0b9f1f48b4093dd7d9": {
          "model_module": "@jupyter-widgets/base",
          "model_name": "LayoutModel",
          "state": {
            "_view_name": "LayoutView",
            "grid_template_rows": null,
            "right": null,
            "justify_content": null,
            "_view_module": "@jupyter-widgets/base",
            "overflow": null,
            "_model_module_version": "1.2.0",
            "_view_count": null,
            "flex_flow": null,
            "width": null,
            "min_width": null,
            "border": null,
            "align_items": null,
            "bottom": null,
            "_model_module": "@jupyter-widgets/base",
            "top": null,
            "grid_column": null,
            "overflow_y": null,
            "overflow_x": null,
            "grid_auto_flow": null,
            "grid_area": null,
            "grid_template_columns": null,
            "flex": null,
            "_model_name": "LayoutModel",
            "justify_items": null,
            "grid_row": null,
            "max_height": null,
            "align_content": null,
            "visibility": null,
            "align_self": null,
            "height": null,
            "min_height": null,
            "padding": null,
            "grid_auto_rows": null,
            "grid_gap": null,
            "max_width": null,
            "order": null,
            "_view_module_version": "1.2.0",
            "grid_template_areas": null,
            "object_position": null,
            "object_fit": null,
            "grid_auto_columns": null,
            "margin": null,
            "display": null,
            "left": null
          }
        },
        "7a4370204d184fea9432b73819e3a430": {
          "model_module": "@jupyter-widgets/controls",
          "model_name": "FloatProgressModel",
          "state": {
            "_view_name": "ProgressView",
            "style": "IPY_MODEL_9966af35edeb4838bafef2ba2c8677df",
            "_dom_classes": [],
            "description": "Downloading: 100%",
            "_model_name": "FloatProgressModel",
            "bar_style": "success",
            "max": 112,
            "_view_module": "@jupyter-widgets/controls",
            "_model_module_version": "1.5.0",
            "value": 112,
            "_view_count": null,
            "_view_module_version": "1.5.0",
            "orientation": "horizontal",
            "min": 0,
            "description_tooltip": null,
            "_model_module": "@jupyter-widgets/controls",
            "layout": "IPY_MODEL_369701b1e009473282f428f7d60286ca"
          }
        },
        "00c066f7f96e4567aee640a3796f9fc9": {
          "model_module": "@jupyter-widgets/controls",
          "model_name": "HTMLModel",
          "state": {
            "_view_name": "HTMLView",
            "style": "IPY_MODEL_bff966a530724d288d8d1eab6d21a16b",
            "_dom_classes": [],
            "description": "",
            "_model_name": "HTMLModel",
            "placeholder": "​",
            "_view_module": "@jupyter-widgets/controls",
            "_model_module_version": "1.5.0",
            "value": " 112/112 [00:00&lt;00:00, 1.05kB/s]",
            "_view_count": null,
            "_view_module_version": "1.5.0",
            "description_tooltip": null,
            "_model_module": "@jupyter-widgets/controls",
            "layout": "IPY_MODEL_c19f23b6ed334e0e8ce6e3bd050070c3"
          }
        },
        "9966af35edeb4838bafef2ba2c8677df": {
          "model_module": "@jupyter-widgets/controls",
          "model_name": "ProgressStyleModel",
          "state": {
            "_view_name": "StyleView",
            "_model_name": "ProgressStyleModel",
            "description_width": "initial",
            "_view_module": "@jupyter-widgets/base",
            "_model_module_version": "1.5.0",
            "_view_count": null,
            "_view_module_version": "1.2.0",
            "bar_color": null,
            "_model_module": "@jupyter-widgets/controls"
          }
        },
        "369701b1e009473282f428f7d60286ca": {
          "model_module": "@jupyter-widgets/base",
          "model_name": "LayoutModel",
          "state": {
            "_view_name": "LayoutView",
            "grid_template_rows": null,
            "right": null,
            "justify_content": null,
            "_view_module": "@jupyter-widgets/base",
            "overflow": null,
            "_model_module_version": "1.2.0",
            "_view_count": null,
            "flex_flow": null,
            "width": null,
            "min_width": null,
            "border": null,
            "align_items": null,
            "bottom": null,
            "_model_module": "@jupyter-widgets/base",
            "top": null,
            "grid_column": null,
            "overflow_y": null,
            "overflow_x": null,
            "grid_auto_flow": null,
            "grid_area": null,
            "grid_template_columns": null,
            "flex": null,
            "_model_name": "LayoutModel",
            "justify_items": null,
            "grid_row": null,
            "max_height": null,
            "align_content": null,
            "visibility": null,
            "align_self": null,
            "height": null,
            "min_height": null,
            "padding": null,
            "grid_auto_rows": null,
            "grid_gap": null,
            "max_width": null,
            "order": null,
            "_view_module_version": "1.2.0",
            "grid_template_areas": null,
            "object_position": null,
            "object_fit": null,
            "grid_auto_columns": null,
            "margin": null,
            "display": null,
            "left": null
          }
        },
        "bff966a530724d288d8d1eab6d21a16b": {
          "model_module": "@jupyter-widgets/controls",
          "model_name": "DescriptionStyleModel",
          "state": {
            "_view_name": "StyleView",
            "_model_name": "DescriptionStyleModel",
            "description_width": "",
            "_view_module": "@jupyter-widgets/base",
            "_model_module_version": "1.5.0",
            "_view_count": null,
            "_view_module_version": "1.2.0",
            "_model_module": "@jupyter-widgets/controls"
          }
        },
        "c19f23b6ed334e0e8ce6e3bd050070c3": {
          "model_module": "@jupyter-widgets/base",
          "model_name": "LayoutModel",
          "state": {
            "_view_name": "LayoutView",
            "grid_template_rows": null,
            "right": null,
            "justify_content": null,
            "_view_module": "@jupyter-widgets/base",
            "overflow": null,
            "_model_module_version": "1.2.0",
            "_view_count": null,
            "flex_flow": null,
            "width": null,
            "min_width": null,
            "border": null,
            "align_items": null,
            "bottom": null,
            "_model_module": "@jupyter-widgets/base",
            "top": null,
            "grid_column": null,
            "overflow_y": null,
            "overflow_x": null,
            "grid_auto_flow": null,
            "grid_area": null,
            "grid_template_columns": null,
            "flex": null,
            "_model_name": "LayoutModel",
            "justify_items": null,
            "grid_row": null,
            "max_height": null,
            "align_content": null,
            "visibility": null,
            "align_self": null,
            "height": null,
            "min_height": null,
            "padding": null,
            "grid_auto_rows": null,
            "grid_gap": null,
            "max_width": null,
            "order": null,
            "_view_module_version": "1.2.0",
            "grid_template_areas": null,
            "object_position": null,
            "object_fit": null,
            "grid_auto_columns": null,
            "margin": null,
            "display": null,
            "left": null
          }
        },
        "58613f75ed4e43bf9f77f46899e68e64": {
          "model_module": "@jupyter-widgets/controls",
          "model_name": "HBoxModel",
          "state": {
            "_view_name": "HBoxView",
            "_dom_classes": [],
            "_model_name": "HBoxModel",
            "_view_module": "@jupyter-widgets/controls",
            "_model_module_version": "1.5.0",
            "_view_count": null,
            "_view_module_version": "1.5.0",
            "box_style": "",
            "layout": "IPY_MODEL_e50bd9008fe04305a22a496e2b9ff1ce",
            "_model_module": "@jupyter-widgets/controls",
            "children": [
              "IPY_MODEL_846d4cf66f894affbfdd0fef83e63c68",
              "IPY_MODEL_7900ff1834364ed78156bb75e7c7525c"
            ]
          }
        },
        "e50bd9008fe04305a22a496e2b9ff1ce": {
          "model_module": "@jupyter-widgets/base",
          "model_name": "LayoutModel",
          "state": {
            "_view_name": "LayoutView",
            "grid_template_rows": null,
            "right": null,
            "justify_content": null,
            "_view_module": "@jupyter-widgets/base",
            "overflow": null,
            "_model_module_version": "1.2.0",
            "_view_count": null,
            "flex_flow": null,
            "width": null,
            "min_width": null,
            "border": null,
            "align_items": null,
            "bottom": null,
            "_model_module": "@jupyter-widgets/base",
            "top": null,
            "grid_column": null,
            "overflow_y": null,
            "overflow_x": null,
            "grid_auto_flow": null,
            "grid_area": null,
            "grid_template_columns": null,
            "flex": null,
            "_model_name": "LayoutModel",
            "justify_items": null,
            "grid_row": null,
            "max_height": null,
            "align_content": null,
            "visibility": null,
            "align_self": null,
            "height": null,
            "min_height": null,
            "padding": null,
            "grid_auto_rows": null,
            "grid_gap": null,
            "max_width": null,
            "order": null,
            "_view_module_version": "1.2.0",
            "grid_template_areas": null,
            "object_position": null,
            "object_fit": null,
            "grid_auto_columns": null,
            "margin": null,
            "display": null,
            "left": null
          }
        },
        "846d4cf66f894affbfdd0fef83e63c68": {
          "model_module": "@jupyter-widgets/controls",
          "model_name": "FloatProgressModel",
          "state": {
            "_view_name": "ProgressView",
            "style": "IPY_MODEL_d312e90e802d4ac1a217083e9ad48edd",
            "_dom_classes": [],
            "description": "Downloading: 100%",
            "_model_name": "FloatProgressModel",
            "bar_style": "success",
            "max": 39,
            "_view_module": "@jupyter-widgets/controls",
            "_model_module_version": "1.5.0",
            "value": 39,
            "_view_count": null,
            "_view_module_version": "1.5.0",
            "orientation": "horizontal",
            "min": 0,
            "description_tooltip": null,
            "_model_module": "@jupyter-widgets/controls",
            "layout": "IPY_MODEL_b6939e47b3044e71ae99b33e8324b0e9"
          }
        },
        "7900ff1834364ed78156bb75e7c7525c": {
          "model_module": "@jupyter-widgets/controls",
          "model_name": "HTMLModel",
          "state": {
            "_view_name": "HTMLView",
            "style": "IPY_MODEL_5ed326ce27d147318aea91ea6eef0944",
            "_dom_classes": [],
            "description": "",
            "_model_name": "HTMLModel",
            "placeholder": "​",
            "_view_module": "@jupyter-widgets/controls",
            "_model_module_version": "1.5.0",
            "value": " 39.0/39.0 [00:00&lt;00:00, 281B/s]",
            "_view_count": null,
            "_view_module_version": "1.5.0",
            "description_tooltip": null,
            "_model_module": "@jupyter-widgets/controls",
            "layout": "IPY_MODEL_3cf8cc5a8ae74d36bf6a4d973d1273d1"
          }
        },
        "d312e90e802d4ac1a217083e9ad48edd": {
          "model_module": "@jupyter-widgets/controls",
          "model_name": "ProgressStyleModel",
          "state": {
            "_view_name": "StyleView",
            "_model_name": "ProgressStyleModel",
            "description_width": "initial",
            "_view_module": "@jupyter-widgets/base",
            "_model_module_version": "1.5.0",
            "_view_count": null,
            "_view_module_version": "1.2.0",
            "bar_color": null,
            "_model_module": "@jupyter-widgets/controls"
          }
        },
        "b6939e47b3044e71ae99b33e8324b0e9": {
          "model_module": "@jupyter-widgets/base",
          "model_name": "LayoutModel",
          "state": {
            "_view_name": "LayoutView",
            "grid_template_rows": null,
            "right": null,
            "justify_content": null,
            "_view_module": "@jupyter-widgets/base",
            "overflow": null,
            "_model_module_version": "1.2.0",
            "_view_count": null,
            "flex_flow": null,
            "width": null,
            "min_width": null,
            "border": null,
            "align_items": null,
            "bottom": null,
            "_model_module": "@jupyter-widgets/base",
            "top": null,
            "grid_column": null,
            "overflow_y": null,
            "overflow_x": null,
            "grid_auto_flow": null,
            "grid_area": null,
            "grid_template_columns": null,
            "flex": null,
            "_model_name": "LayoutModel",
            "justify_items": null,
            "grid_row": null,
            "max_height": null,
            "align_content": null,
            "visibility": null,
            "align_self": null,
            "height": null,
            "min_height": null,
            "padding": null,
            "grid_auto_rows": null,
            "grid_gap": null,
            "max_width": null,
            "order": null,
            "_view_module_version": "1.2.0",
            "grid_template_areas": null,
            "object_position": null,
            "object_fit": null,
            "grid_auto_columns": null,
            "margin": null,
            "display": null,
            "left": null
          }
        },
        "5ed326ce27d147318aea91ea6eef0944": {
          "model_module": "@jupyter-widgets/controls",
          "model_name": "DescriptionStyleModel",
          "state": {
            "_view_name": "StyleView",
            "_model_name": "DescriptionStyleModel",
            "description_width": "",
            "_view_module": "@jupyter-widgets/base",
            "_model_module_version": "1.5.0",
            "_view_count": null,
            "_view_module_version": "1.2.0",
            "_model_module": "@jupyter-widgets/controls"
          }
        },
        "3cf8cc5a8ae74d36bf6a4d973d1273d1": {
          "model_module": "@jupyter-widgets/base",
          "model_name": "LayoutModel",
          "state": {
            "_view_name": "LayoutView",
            "grid_template_rows": null,
            "right": null,
            "justify_content": null,
            "_view_module": "@jupyter-widgets/base",
            "overflow": null,
            "_model_module_version": "1.2.0",
            "_view_count": null,
            "flex_flow": null,
            "width": null,
            "min_width": null,
            "border": null,
            "align_items": null,
            "bottom": null,
            "_model_module": "@jupyter-widgets/base",
            "top": null,
            "grid_column": null,
            "overflow_y": null,
            "overflow_x": null,
            "grid_auto_flow": null,
            "grid_area": null,
            "grid_template_columns": null,
            "flex": null,
            "_model_name": "LayoutModel",
            "justify_items": null,
            "grid_row": null,
            "max_height": null,
            "align_content": null,
            "visibility": null,
            "align_self": null,
            "height": null,
            "min_height": null,
            "padding": null,
            "grid_auto_rows": null,
            "grid_gap": null,
            "max_width": null,
            "order": null,
            "_view_module_version": "1.2.0",
            "grid_template_areas": null,
            "object_position": null,
            "object_fit": null,
            "grid_auto_columns": null,
            "margin": null,
            "display": null,
            "left": null
          }
        },
        "fdfc3f20cc72420d8da4b25331fb0bec": {
          "model_module": "@jupyter-widgets/controls",
          "model_name": "HBoxModel",
          "state": {
            "_view_name": "HBoxView",
            "_dom_classes": [],
            "_model_name": "HBoxModel",
            "_view_module": "@jupyter-widgets/controls",
            "_model_module_version": "1.5.0",
            "_view_count": null,
            "_view_module_version": "1.5.0",
            "box_style": "",
            "layout": "IPY_MODEL_5e82d665fc834d1f894bd250197f4c34",
            "_model_module": "@jupyter-widgets/controls",
            "children": [
              "IPY_MODEL_1cc03bfed65544da90941cb7c104dae5",
              "IPY_MODEL_73f702d777cf461cb9e28303b2214db9"
            ]
          }
        },
        "5e82d665fc834d1f894bd250197f4c34": {
          "model_module": "@jupyter-widgets/base",
          "model_name": "LayoutModel",
          "state": {
            "_view_name": "LayoutView",
            "grid_template_rows": null,
            "right": null,
            "justify_content": null,
            "_view_module": "@jupyter-widgets/base",
            "overflow": null,
            "_model_module_version": "1.2.0",
            "_view_count": null,
            "flex_flow": null,
            "width": null,
            "min_width": null,
            "border": null,
            "align_items": null,
            "bottom": null,
            "_model_module": "@jupyter-widgets/base",
            "top": null,
            "grid_column": null,
            "overflow_y": null,
            "overflow_x": null,
            "grid_auto_flow": null,
            "grid_area": null,
            "grid_template_columns": null,
            "flex": null,
            "_model_name": "LayoutModel",
            "justify_items": null,
            "grid_row": null,
            "max_height": null,
            "align_content": null,
            "visibility": null,
            "align_self": null,
            "height": null,
            "min_height": null,
            "padding": null,
            "grid_auto_rows": null,
            "grid_gap": null,
            "max_width": null,
            "order": null,
            "_view_module_version": "1.2.0",
            "grid_template_areas": null,
            "object_position": null,
            "object_fit": null,
            "grid_auto_columns": null,
            "margin": null,
            "display": null,
            "left": null
          }
        },
        "1cc03bfed65544da90941cb7c104dae5": {
          "model_module": "@jupyter-widgets/controls",
          "model_name": "FloatProgressModel",
          "state": {
            "_view_name": "ProgressView",
            "style": "IPY_MODEL_5ef0d6e256284cbc8a58d2350b260591",
            "_dom_classes": [],
            "description": "Downloading: 100%",
            "_model_name": "FloatProgressModel",
            "bar_style": "success",
            "max": 669491321,
            "_view_module": "@jupyter-widgets/controls",
            "_model_module_version": "1.5.0",
            "value": 669491321,
            "_view_count": null,
            "_view_module_version": "1.5.0",
            "orientation": "horizontal",
            "min": 0,
            "description_tooltip": null,
            "_model_module": "@jupyter-widgets/controls",
            "layout": "IPY_MODEL_94c057e7b042426586e94e7fa6569173"
          }
        },
        "73f702d777cf461cb9e28303b2214db9": {
          "model_module": "@jupyter-widgets/controls",
          "model_name": "HTMLModel",
          "state": {
            "_view_name": "HTMLView",
            "style": "IPY_MODEL_4b797482db5f4aeab91d3bfe4372d4fd",
            "_dom_classes": [],
            "description": "",
            "_model_name": "HTMLModel",
            "placeholder": "​",
            "_view_module": "@jupyter-widgets/controls",
            "_model_module_version": "1.5.0",
            "value": " 669M/669M [00:39&lt;00:00, 17.0MB/s]",
            "_view_count": null,
            "_view_module_version": "1.5.0",
            "description_tooltip": null,
            "_model_module": "@jupyter-widgets/controls",
            "layout": "IPY_MODEL_f93d3935cee74db4b2585ab05faa6c97"
          }
        },
        "5ef0d6e256284cbc8a58d2350b260591": {
          "model_module": "@jupyter-widgets/controls",
          "model_name": "ProgressStyleModel",
          "state": {
            "_view_name": "StyleView",
            "_model_name": "ProgressStyleModel",
            "description_width": "initial",
            "_view_module": "@jupyter-widgets/base",
            "_model_module_version": "1.5.0",
            "_view_count": null,
            "_view_module_version": "1.2.0",
            "bar_color": null,
            "_model_module": "@jupyter-widgets/controls"
          }
        },
        "94c057e7b042426586e94e7fa6569173": {
          "model_module": "@jupyter-widgets/base",
          "model_name": "LayoutModel",
          "state": {
            "_view_name": "LayoutView",
            "grid_template_rows": null,
            "right": null,
            "justify_content": null,
            "_view_module": "@jupyter-widgets/base",
            "overflow": null,
            "_model_module_version": "1.2.0",
            "_view_count": null,
            "flex_flow": null,
            "width": null,
            "min_width": null,
            "border": null,
            "align_items": null,
            "bottom": null,
            "_model_module": "@jupyter-widgets/base",
            "top": null,
            "grid_column": null,
            "overflow_y": null,
            "overflow_x": null,
            "grid_auto_flow": null,
            "grid_area": null,
            "grid_template_columns": null,
            "flex": null,
            "_model_name": "LayoutModel",
            "justify_items": null,
            "grid_row": null,
            "max_height": null,
            "align_content": null,
            "visibility": null,
            "align_self": null,
            "height": null,
            "min_height": null,
            "padding": null,
            "grid_auto_rows": null,
            "grid_gap": null,
            "max_width": null,
            "order": null,
            "_view_module_version": "1.2.0",
            "grid_template_areas": null,
            "object_position": null,
            "object_fit": null,
            "grid_auto_columns": null,
            "margin": null,
            "display": null,
            "left": null
          }
        },
        "4b797482db5f4aeab91d3bfe4372d4fd": {
          "model_module": "@jupyter-widgets/controls",
          "model_name": "DescriptionStyleModel",
          "state": {
            "_view_name": "StyleView",
            "_model_name": "DescriptionStyleModel",
            "description_width": "",
            "_view_module": "@jupyter-widgets/base",
            "_model_module_version": "1.5.0",
            "_view_count": null,
            "_view_module_version": "1.2.0",
            "_model_module": "@jupyter-widgets/controls"
          }
        },
        "f93d3935cee74db4b2585ab05faa6c97": {
          "model_module": "@jupyter-widgets/base",
          "model_name": "LayoutModel",
          "state": {
            "_view_name": "LayoutView",
            "grid_template_rows": null,
            "right": null,
            "justify_content": null,
            "_view_module": "@jupyter-widgets/base",
            "overflow": null,
            "_model_module_version": "1.2.0",
            "_view_count": null,
            "flex_flow": null,
            "width": null,
            "min_width": null,
            "border": null,
            "align_items": null,
            "bottom": null,
            "_model_module": "@jupyter-widgets/base",
            "top": null,
            "grid_column": null,
            "overflow_y": null,
            "overflow_x": null,
            "grid_auto_flow": null,
            "grid_area": null,
            "grid_template_columns": null,
            "flex": null,
            "_model_name": "LayoutModel",
            "justify_items": null,
            "grid_row": null,
            "max_height": null,
            "align_content": null,
            "visibility": null,
            "align_self": null,
            "height": null,
            "min_height": null,
            "padding": null,
            "grid_auto_rows": null,
            "grid_gap": null,
            "max_width": null,
            "order": null,
            "_view_module_version": "1.2.0",
            "grid_template_areas": null,
            "object_position": null,
            "object_fit": null,
            "grid_auto_columns": null,
            "margin": null,
            "display": null,
            "left": null
          }
        }
      }
    }
  },
  "cells": [
    {
      "cell_type": "markdown",
      "metadata": {
        "id": "gEWYVWG-fdnF"
      },
      "source": [
        "# 1. Install and Import Dependencies"
      ]
    },
    {
      "cell_type": "code",
      "metadata": {
        "id": "EM7n6tipfdnI"
      },
      "source": [
        "'''!pip install torch==1.8.1+cu111 torchvision==0.9.1+cu111 torchaudio===0.8.1 -f https://download.pytorch.org/whl/torch_stable.html'''"
      ],
      "execution_count": null,
      "outputs": []
    },
    {
      "cell_type": "code",
      "metadata": {
        "colab": {
          "base_uri": "https://localhost:8080/"
        },
        "id": "tOMEqjjAfdnJ",
        "outputId": "a0cf1150-aad8-4b0c-a689-e760574e2ca5"
      },
      "source": [
        "!pip install transformers requests beautifulsoup4 pandas numpy"
      ],
      "execution_count": 1,
      "outputs": [
        {
          "output_type": "stream",
          "text": [
            "Collecting transformers\n",
            "\u001b[?25l  Downloading https://files.pythonhosted.org/packages/d5/43/cfe4ee779bbd6a678ac6a97c5a5cdeb03c35f9eaebbb9720b036680f9a2d/transformers-4.6.1-py3-none-any.whl (2.2MB)\n",
            "\r\u001b[K     |▏                               | 10kB 23.5MB/s eta 0:00:01\r\u001b[K     |▎                               | 20kB 31.1MB/s eta 0:00:01\r\u001b[K     |▍                               | 30kB 35.9MB/s eta 0:00:01\r\u001b[K     |▋                               | 40kB 30.8MB/s eta 0:00:01\r\u001b[K     |▊                               | 51kB 30.8MB/s eta 0:00:01\r\u001b[K     |▉                               | 61kB 32.9MB/s eta 0:00:01\r\u001b[K     |█                               | 71kB 24.5MB/s eta 0:00:01\r\u001b[K     |█▏                              | 81kB 25.6MB/s eta 0:00:01\r\u001b[K     |█▎                              | 92kB 23.5MB/s eta 0:00:01\r\u001b[K     |█▌                              | 102kB 24.0MB/s eta 0:00:01\r\u001b[K     |█▋                              | 112kB 24.0MB/s eta 0:00:01\r\u001b[K     |█▊                              | 122kB 24.0MB/s eta 0:00:01\r\u001b[K     |██                              | 133kB 24.0MB/s eta 0:00:01\r\u001b[K     |██                              | 143kB 24.0MB/s eta 0:00:01\r\u001b[K     |██▏                             | 153kB 24.0MB/s eta 0:00:01\r\u001b[K     |██▎                             | 163kB 24.0MB/s eta 0:00:01\r\u001b[K     |██▌                             | 174kB 24.0MB/s eta 0:00:01\r\u001b[K     |██▋                             | 184kB 24.0MB/s eta 0:00:01\r\u001b[K     |██▊                             | 194kB 24.0MB/s eta 0:00:01\r\u001b[K     |███                             | 204kB 24.0MB/s eta 0:00:01\r\u001b[K     |███                             | 215kB 24.0MB/s eta 0:00:01\r\u001b[K     |███▏                            | 225kB 24.0MB/s eta 0:00:01\r\u001b[K     |███▍                            | 235kB 24.0MB/s eta 0:00:01\r\u001b[K     |███▌                            | 245kB 24.0MB/s eta 0:00:01\r\u001b[K     |███▋                            | 256kB 24.0MB/s eta 0:00:01\r\u001b[K     |███▉                            | 266kB 24.0MB/s eta 0:00:01\r\u001b[K     |████                            | 276kB 24.0MB/s eta 0:00:01\r\u001b[K     |████                            | 286kB 24.0MB/s eta 0:00:01\r\u001b[K     |████▎                           | 296kB 24.0MB/s eta 0:00:01\r\u001b[K     |████▍                           | 307kB 24.0MB/s eta 0:00:01\r\u001b[K     |████▌                           | 317kB 24.0MB/s eta 0:00:01\r\u001b[K     |████▋                           | 327kB 24.0MB/s eta 0:00:01\r\u001b[K     |████▉                           | 337kB 24.0MB/s eta 0:00:01\r\u001b[K     |█████                           | 348kB 24.0MB/s eta 0:00:01\r\u001b[K     |█████                           | 358kB 24.0MB/s eta 0:00:01\r\u001b[K     |█████▎                          | 368kB 24.0MB/s eta 0:00:01\r\u001b[K     |█████▍                          | 378kB 24.0MB/s eta 0:00:01\r\u001b[K     |█████▌                          | 389kB 24.0MB/s eta 0:00:01\r\u001b[K     |█████▊                          | 399kB 24.0MB/s eta 0:00:01\r\u001b[K     |█████▉                          | 409kB 24.0MB/s eta 0:00:01\r\u001b[K     |██████                          | 419kB 24.0MB/s eta 0:00:01\r\u001b[K     |██████▏                         | 430kB 24.0MB/s eta 0:00:01\r\u001b[K     |██████▎                         | 440kB 24.0MB/s eta 0:00:01\r\u001b[K     |██████▍                         | 450kB 24.0MB/s eta 0:00:01\r\u001b[K     |██████▌                         | 460kB 24.0MB/s eta 0:00:01\r\u001b[K     |██████▊                         | 471kB 24.0MB/s eta 0:00:01\r\u001b[K     |██████▉                         | 481kB 24.0MB/s eta 0:00:01\r\u001b[K     |███████                         | 491kB 24.0MB/s eta 0:00:01\r\u001b[K     |███████▏                        | 501kB 24.0MB/s eta 0:00:01\r\u001b[K     |███████▎                        | 512kB 24.0MB/s eta 0:00:01\r\u001b[K     |███████▍                        | 522kB 24.0MB/s eta 0:00:01\r\u001b[K     |███████▋                        | 532kB 24.0MB/s eta 0:00:01\r\u001b[K     |███████▊                        | 542kB 24.0MB/s eta 0:00:01\r\u001b[K     |███████▉                        | 552kB 24.0MB/s eta 0:00:01\r\u001b[K     |████████                        | 563kB 24.0MB/s eta 0:00:01\r\u001b[K     |████████▏                       | 573kB 24.0MB/s eta 0:00:01\r\u001b[K     |████████▎                       | 583kB 24.0MB/s eta 0:00:01\r\u001b[K     |████████▌                       | 593kB 24.0MB/s eta 0:00:01\r\u001b[K     |████████▋                       | 604kB 24.0MB/s eta 0:00:01\r\u001b[K     |████████▊                       | 614kB 24.0MB/s eta 0:00:01\r\u001b[K     |████████▉                       | 624kB 24.0MB/s eta 0:00:01\r\u001b[K     |█████████                       | 634kB 24.0MB/s eta 0:00:01\r\u001b[K     |█████████▏                      | 645kB 24.0MB/s eta 0:00:01\r\u001b[K     |█████████▎                      | 655kB 24.0MB/s eta 0:00:01\r\u001b[K     |█████████▌                      | 665kB 24.0MB/s eta 0:00:01\r\u001b[K     |█████████▋                      | 675kB 24.0MB/s eta 0:00:01\r\u001b[K     |█████████▊                      | 686kB 24.0MB/s eta 0:00:01\r\u001b[K     |██████████                      | 696kB 24.0MB/s eta 0:00:01\r\u001b[K     |██████████                      | 706kB 24.0MB/s eta 0:00:01\r\u001b[K     |██████████▏                     | 716kB 24.0MB/s eta 0:00:01\r\u001b[K     |██████████▍                     | 727kB 24.0MB/s eta 0:00:01\r\u001b[K     |██████████▌                     | 737kB 24.0MB/s eta 0:00:01\r\u001b[K     |██████████▋                     | 747kB 24.0MB/s eta 0:00:01\r\u001b[K     |██████████▉                     | 757kB 24.0MB/s eta 0:00:01\r\u001b[K     |███████████                     | 768kB 24.0MB/s eta 0:00:01\r\u001b[K     |███████████                     | 778kB 24.0MB/s eta 0:00:01\r\u001b[K     |███████████▏                    | 788kB 24.0MB/s eta 0:00:01\r\u001b[K     |███████████▍                    | 798kB 24.0MB/s eta 0:00:01\r\u001b[K     |███████████▌                    | 808kB 24.0MB/s eta 0:00:01\r\u001b[K     |███████████▋                    | 819kB 24.0MB/s eta 0:00:01\r\u001b[K     |███████████▉                    | 829kB 24.0MB/s eta 0:00:01\r\u001b[K     |████████████                    | 839kB 24.0MB/s eta 0:00:01\r\u001b[K     |████████████                    | 849kB 24.0MB/s eta 0:00:01\r\u001b[K     |████████████▎                   | 860kB 24.0MB/s eta 0:00:01\r\u001b[K     |████████████▍                   | 870kB 24.0MB/s eta 0:00:01\r\u001b[K     |████████████▌                   | 880kB 24.0MB/s eta 0:00:01\r\u001b[K     |████████████▊                   | 890kB 24.0MB/s eta 0:00:01\r\u001b[K     |████████████▉                   | 901kB 24.0MB/s eta 0:00:01\r\u001b[K     |█████████████                   | 911kB 24.0MB/s eta 0:00:01\r\u001b[K     |█████████████                   | 921kB 24.0MB/s eta 0:00:01\r\u001b[K     |█████████████▎                  | 931kB 24.0MB/s eta 0:00:01\r\u001b[K     |█████████████▍                  | 942kB 24.0MB/s eta 0:00:01\r\u001b[K     |█████████████▌                  | 952kB 24.0MB/s eta 0:00:01\r\u001b[K     |█████████████▊                  | 962kB 24.0MB/s eta 0:00:01\r\u001b[K     |█████████████▉                  | 972kB 24.0MB/s eta 0:00:01\r\u001b[K     |██████████████                  | 983kB 24.0MB/s eta 0:00:01\r\u001b[K     |██████████████▏                 | 993kB 24.0MB/s eta 0:00:01\r\u001b[K     |██████████████▎                 | 1.0MB 24.0MB/s eta 0:00:01\r\u001b[K     |██████████████▍                 | 1.0MB 24.0MB/s eta 0:00:01\r\u001b[K     |██████████████▋                 | 1.0MB 24.0MB/s eta 0:00:01\r\u001b[K     |██████████████▊                 | 1.0MB 24.0MB/s eta 0:00:01\r\u001b[K     |██████████████▉                 | 1.0MB 24.0MB/s eta 0:00:01\r\u001b[K     |███████████████                 | 1.1MB 24.0MB/s eta 0:00:01\r\u001b[K     |███████████████▏                | 1.1MB 24.0MB/s eta 0:00:01\r\u001b[K     |███████████████▎                | 1.1MB 24.0MB/s eta 0:00:01\r\u001b[K     |███████████████▍                | 1.1MB 24.0MB/s eta 0:00:01\r\u001b[K     |███████████████▋                | 1.1MB 24.0MB/s eta 0:00:01\r\u001b[K     |███████████████▊                | 1.1MB 24.0MB/s eta 0:00:01\r\u001b[K     |███████████████▉                | 1.1MB 24.0MB/s eta 0:00:01\r\u001b[K     |████████████████                | 1.1MB 24.0MB/s eta 0:00:01\r\u001b[K     |████████████████▏               | 1.1MB 24.0MB/s eta 0:00:01\r\u001b[K     |████████████████▎               | 1.1MB 24.0MB/s eta 0:00:01\r\u001b[K     |████████████████▌               | 1.2MB 24.0MB/s eta 0:00:01\r\u001b[K     |████████████████▋               | 1.2MB 24.0MB/s eta 0:00:01\r\u001b[K     |████████████████▊               | 1.2MB 24.0MB/s eta 0:00:01\r\u001b[K     |█████████████████               | 1.2MB 24.0MB/s eta 0:00:01\r\u001b[K     |█████████████████               | 1.2MB 24.0MB/s eta 0:00:01\r\u001b[K     |█████████████████▏              | 1.2MB 24.0MB/s eta 0:00:01\r\u001b[K     |█████████████████▎              | 1.2MB 24.0MB/s eta 0:00:01\r\u001b[K     |█████████████████▌              | 1.2MB 24.0MB/s eta 0:00:01\r\u001b[K     |█████████████████▋              | 1.2MB 24.0MB/s eta 0:00:01\r\u001b[K     |█████████████████▊              | 1.2MB 24.0MB/s eta 0:00:01\r\u001b[K     |██████████████████              | 1.3MB 24.0MB/s eta 0:00:01\r\u001b[K     |██████████████████              | 1.3MB 24.0MB/s eta 0:00:01\r\u001b[K     |██████████████████▏             | 1.3MB 24.0MB/s eta 0:00:01\r\u001b[K     |██████████████████▍             | 1.3MB 24.0MB/s eta 0:00:01\r\u001b[K     |██████████████████▌             | 1.3MB 24.0MB/s eta 0:00:01\r\u001b[K     |██████████████████▋             | 1.3MB 24.0MB/s eta 0:00:01\r\u001b[K     |██████████████████▉             | 1.3MB 24.0MB/s eta 0:00:01\r\u001b[K     |███████████████████             | 1.3MB 24.0MB/s eta 0:00:01\r\u001b[K     |███████████████████             | 1.3MB 24.0MB/s eta 0:00:01\r\u001b[K     |███████████████████▎            | 1.4MB 24.0MB/s eta 0:00:01\r\u001b[K     |███████████████████▍            | 1.4MB 24.0MB/s eta 0:00:01\r\u001b[K     |███████████████████▌            | 1.4MB 24.0MB/s eta 0:00:01\r\u001b[K     |███████████████████▋            | 1.4MB 24.0MB/s eta 0:00:01\r\u001b[K     |███████████████████▉            | 1.4MB 24.0MB/s eta 0:00:01\r\u001b[K     |████████████████████            | 1.4MB 24.0MB/s eta 0:00:01\r\u001b[K     |████████████████████            | 1.4MB 24.0MB/s eta 0:00:01\r\u001b[K     |████████████████████▎           | 1.4MB 24.0MB/s eta 0:00:01\r\u001b[K     |████████████████████▍           | 1.4MB 24.0MB/s eta 0:00:01\r\u001b[K     |████████████████████▌           | 1.4MB 24.0MB/s eta 0:00:01\r\u001b[K     |████████████████████▊           | 1.5MB 24.0MB/s eta 0:00:01\r\u001b[K     |████████████████████▉           | 1.5MB 24.0MB/s eta 0:00:01\r\u001b[K     |█████████████████████           | 1.5MB 24.0MB/s eta 0:00:01\r\u001b[K     |█████████████████████▏          | 1.5MB 24.0MB/s eta 0:00:01\r\u001b[K     |█████████████████████▎          | 1.5MB 24.0MB/s eta 0:00:01\r\u001b[K     |█████████████████████▍          | 1.5MB 24.0MB/s eta 0:00:01\r\u001b[K     |█████████████████████▋          | 1.5MB 24.0MB/s eta 0:00:01\r\u001b[K     |█████████████████████▊          | 1.5MB 24.0MB/s eta 0:00:01\r\u001b[K     |█████████████████████▉          | 1.5MB 24.0MB/s eta 0:00:01\r\u001b[K     |██████████████████████          | 1.5MB 24.0MB/s eta 0:00:01\r\u001b[K     |██████████████████████▏         | 1.6MB 24.0MB/s eta 0:00:01\r\u001b[K     |██████████████████████▎         | 1.6MB 24.0MB/s eta 0:00:01\r\u001b[K     |██████████████████████▍         | 1.6MB 24.0MB/s eta 0:00:01\r\u001b[K     |██████████████████████▋         | 1.6MB 24.0MB/s eta 0:00:01\r\u001b[K     |██████████████████████▊         | 1.6MB 24.0MB/s eta 0:00:01\r\u001b[K     |██████████████████████▉         | 1.6MB 24.0MB/s eta 0:00:01\r\u001b[K     |███████████████████████         | 1.6MB 24.0MB/s eta 0:00:01\r\u001b[K     |███████████████████████▏        | 1.6MB 24.0MB/s eta 0:00:01\r\u001b[K     |███████████████████████▎        | 1.6MB 24.0MB/s eta 0:00:01\r\u001b[K     |███████████████████████▌        | 1.6MB 24.0MB/s eta 0:00:01\r\u001b[K     |███████████████████████▋        | 1.7MB 24.0MB/s eta 0:00:01\r\u001b[K     |███████████████████████▊        | 1.7MB 24.0MB/s eta 0:00:01\r\u001b[K     |███████████████████████▉        | 1.7MB 24.0MB/s eta 0:00:01\r\u001b[K     |████████████████████████        | 1.7MB 24.0MB/s eta 0:00:01\r\u001b[K     |████████████████████████▏       | 1.7MB 24.0MB/s eta 0:00:01\r\u001b[K     |████████████████████████▎       | 1.7MB 24.0MB/s eta 0:00:01\r\u001b[K     |████████████████████████▌       | 1.7MB 24.0MB/s eta 0:00:01\r\u001b[K     |████████████████████████▋       | 1.7MB 24.0MB/s eta 0:00:01\r\u001b[K     |████████████████████████▊       | 1.7MB 24.0MB/s eta 0:00:01\r\u001b[K     |█████████████████████████       | 1.8MB 24.0MB/s eta 0:00:01\r\u001b[K     |█████████████████████████       | 1.8MB 24.0MB/s eta 0:00:01\r\u001b[K     |█████████████████████████▏      | 1.8MB 24.0MB/s eta 0:00:01\r\u001b[K     |█████████████████████████▍      | 1.8MB 24.0MB/s eta 0:00:01\r\u001b[K     |█████████████████████████▌      | 1.8MB 24.0MB/s eta 0:00:01\r\u001b[K     |█████████████████████████▋      | 1.8MB 24.0MB/s eta 0:00:01\r\u001b[K     |█████████████████████████▉      | 1.8MB 24.0MB/s eta 0:00:01\r\u001b[K     |██████████████████████████      | 1.8MB 24.0MB/s eta 0:00:01\r\u001b[K     |██████████████████████████      | 1.8MB 24.0MB/s eta 0:00:01\r\u001b[K     |██████████████████████████▏     | 1.8MB 24.0MB/s eta 0:00:01\r\u001b[K     |██████████████████████████▍     | 1.9MB 24.0MB/s eta 0:00:01\r\u001b[K     |██████████████████████████▌     | 1.9MB 24.0MB/s eta 0:00:01\r\u001b[K     |██████████████████████████▋     | 1.9MB 24.0MB/s eta 0:00:01\r\u001b[K     |██████████████████████████▉     | 1.9MB 24.0MB/s eta 0:00:01\r\u001b[K     |███████████████████████████     | 1.9MB 24.0MB/s eta 0:00:01\r\u001b[K     |███████████████████████████     | 1.9MB 24.0MB/s eta 0:00:01\r\u001b[K     |███████████████████████████▎    | 1.9MB 24.0MB/s eta 0:00:01\r\u001b[K     |███████████████████████████▍    | 1.9MB 24.0MB/s eta 0:00:01\r\u001b[K     |███████████████████████████▌    | 1.9MB 24.0MB/s eta 0:00:01\r\u001b[K     |███████████████████████████▊    | 1.9MB 24.0MB/s eta 0:00:01\r\u001b[K     |███████████████████████████▉    | 2.0MB 24.0MB/s eta 0:00:01\r\u001b[K     |████████████████████████████    | 2.0MB 24.0MB/s eta 0:00:01\r\u001b[K     |████████████████████████████▏   | 2.0MB 24.0MB/s eta 0:00:01\r\u001b[K     |████████████████████████████▎   | 2.0MB 24.0MB/s eta 0:00:01\r\u001b[K     |████████████████████████████▍   | 2.0MB 24.0MB/s eta 0:00:01\r\u001b[K     |████████████████████████████▌   | 2.0MB 24.0MB/s eta 0:00:01\r\u001b[K     |████████████████████████████▊   | 2.0MB 24.0MB/s eta 0:00:01\r\u001b[K     |████████████████████████████▉   | 2.0MB 24.0MB/s eta 0:00:01\r\u001b[K     |█████████████████████████████   | 2.0MB 24.0MB/s eta 0:00:01\r\u001b[K     |█████████████████████████████▏  | 2.0MB 24.0MB/s eta 0:00:01\r\u001b[K     |█████████████████████████████▎  | 2.1MB 24.0MB/s eta 0:00:01\r\u001b[K     |█████████████████████████████▍  | 2.1MB 24.0MB/s eta 0:00:01\r\u001b[K     |█████████████████████████████▋  | 2.1MB 24.0MB/s eta 0:00:01\r\u001b[K     |█████████████████████████████▊  | 2.1MB 24.0MB/s eta 0:00:01\r\u001b[K     |█████████████████████████████▉  | 2.1MB 24.0MB/s eta 0:00:01\r\u001b[K     |██████████████████████████████  | 2.1MB 24.0MB/s eta 0:00:01\r\u001b[K     |██████████████████████████████▏ | 2.1MB 24.0MB/s eta 0:00:01\r\u001b[K     |██████████████████████████████▎ | 2.1MB 24.0MB/s eta 0:00:01\r\u001b[K     |██████████████████████████████▍ | 2.1MB 24.0MB/s eta 0:00:01\r\u001b[K     |██████████████████████████████▋ | 2.2MB 24.0MB/s eta 0:00:01\r\u001b[K     |██████████████████████████████▊ | 2.2MB 24.0MB/s eta 0:00:01\r\u001b[K     |██████████████████████████████▉ | 2.2MB 24.0MB/s eta 0:00:01\r\u001b[K     |███████████████████████████████ | 2.2MB 24.0MB/s eta 0:00:01\r\u001b[K     |███████████████████████████████▏| 2.2MB 24.0MB/s eta 0:00:01\r\u001b[K     |███████████████████████████████▎| 2.2MB 24.0MB/s eta 0:00:01\r\u001b[K     |███████████████████████████████▌| 2.2MB 24.0MB/s eta 0:00:01\r\u001b[K     |███████████████████████████████▋| 2.2MB 24.0MB/s eta 0:00:01\r\u001b[K     |███████████████████████████████▊| 2.2MB 24.0MB/s eta 0:00:01\r\u001b[K     |████████████████████████████████| 2.2MB 24.0MB/s eta 0:00:01\r\u001b[K     |████████████████████████████████| 2.3MB 24.0MB/s \n",
            "\u001b[?25hRequirement already satisfied: requests in /usr/local/lib/python3.7/dist-packages (2.23.0)\n",
            "Requirement already satisfied: beautifulsoup4 in /usr/local/lib/python3.7/dist-packages (4.6.3)\n",
            "Requirement already satisfied: pandas in /usr/local/lib/python3.7/dist-packages (1.1.5)\n",
            "Requirement already satisfied: numpy in /usr/local/lib/python3.7/dist-packages (1.19.5)\n",
            "Requirement already satisfied: regex!=2019.12.17 in /usr/local/lib/python3.7/dist-packages (from transformers) (2019.12.20)\n",
            "Collecting tokenizers<0.11,>=0.10.1\n",
            "\u001b[?25l  Downloading https://files.pythonhosted.org/packages/d4/e2/df3543e8ffdab68f5acc73f613de9c2b155ac47f162e725dcac87c521c11/tokenizers-0.10.3-cp37-cp37m-manylinux_2_5_x86_64.manylinux1_x86_64.manylinux_2_12_x86_64.manylinux2010_x86_64.whl (3.3MB)\n",
            "\u001b[K     |████████████████████████████████| 3.3MB 41.6MB/s \n",
            "\u001b[?25hRequirement already satisfied: tqdm>=4.27 in /usr/local/lib/python3.7/dist-packages (from transformers) (4.41.1)\n",
            "Requirement already satisfied: importlib-metadata; python_version < \"3.8\" in /usr/local/lib/python3.7/dist-packages (from transformers) (4.0.1)\n",
            "Requirement already satisfied: filelock in /usr/local/lib/python3.7/dist-packages (from transformers) (3.0.12)\n",
            "Collecting sacremoses\n",
            "\u001b[?25l  Downloading https://files.pythonhosted.org/packages/75/ee/67241dc87f266093c533a2d4d3d69438e57d7a90abb216fa076e7d475d4a/sacremoses-0.0.45-py3-none-any.whl (895kB)\n",
            "\u001b[K     |████████████████████████████████| 901kB 36.9MB/s \n",
            "\u001b[?25hCollecting huggingface-hub==0.0.8\n",
            "  Downloading https://files.pythonhosted.org/packages/a1/88/7b1e45720ecf59c6c6737ff332f41c955963090a18e72acbcbeac6b25e86/huggingface_hub-0.0.8-py3-none-any.whl\n",
            "Requirement already satisfied: packaging in /usr/local/lib/python3.7/dist-packages (from transformers) (20.9)\n",
            "Requirement already satisfied: urllib3!=1.25.0,!=1.25.1,<1.26,>=1.21.1 in /usr/local/lib/python3.7/dist-packages (from requests) (1.24.3)\n",
            "Requirement already satisfied: certifi>=2017.4.17 in /usr/local/lib/python3.7/dist-packages (from requests) (2020.12.5)\n",
            "Requirement already satisfied: chardet<4,>=3.0.2 in /usr/local/lib/python3.7/dist-packages (from requests) (3.0.4)\n",
            "Requirement already satisfied: idna<3,>=2.5 in /usr/local/lib/python3.7/dist-packages (from requests) (2.10)\n",
            "Requirement already satisfied: python-dateutil>=2.7.3 in /usr/local/lib/python3.7/dist-packages (from pandas) (2.8.1)\n",
            "Requirement already satisfied: pytz>=2017.2 in /usr/local/lib/python3.7/dist-packages (from pandas) (2018.9)\n",
            "Requirement already satisfied: typing-extensions>=3.6.4; python_version < \"3.8\" in /usr/local/lib/python3.7/dist-packages (from importlib-metadata; python_version < \"3.8\"->transformers) (3.7.4.3)\n",
            "Requirement already satisfied: zipp>=0.5 in /usr/local/lib/python3.7/dist-packages (from importlib-metadata; python_version < \"3.8\"->transformers) (3.4.1)\n",
            "Requirement already satisfied: click in /usr/local/lib/python3.7/dist-packages (from sacremoses->transformers) (7.1.2)\n",
            "Requirement already satisfied: six in /usr/local/lib/python3.7/dist-packages (from sacremoses->transformers) (1.15.0)\n",
            "Requirement already satisfied: joblib in /usr/local/lib/python3.7/dist-packages (from sacremoses->transformers) (1.0.1)\n",
            "Requirement already satisfied: pyparsing>=2.0.2 in /usr/local/lib/python3.7/dist-packages (from packaging->transformers) (2.4.7)\n",
            "Installing collected packages: tokenizers, sacremoses, huggingface-hub, transformers\n",
            "Successfully installed huggingface-hub-0.0.8 sacremoses-0.0.45 tokenizers-0.10.3 transformers-4.6.1\n"
          ],
          "name": "stdout"
        }
      ]
    },
    {
      "cell_type": "code",
      "metadata": {
        "id": "ciMnt9KDfdnJ"
      },
      "source": [
        "from transformers import AutoTokenizer, AutoModelForSequenceClassification\n",
        "import torch\n",
        "import requests\n",
        "from bs4 import BeautifulSoup\n",
        "import re"
      ],
      "execution_count": 2,
      "outputs": []
    },
    {
      "cell_type": "markdown",
      "metadata": {
        "id": "L-BEfBHdfdnK"
      },
      "source": [
        "# 2. Instantiate Model"
      ]
    },
    {
      "cell_type": "code",
      "metadata": {
        "colab": {
          "base_uri": "https://localhost:8080/",
          "height": 262,
          "referenced_widgets": [
            "cddf0f59d1ae4a77ada1dbad8146e035",
            "031f79f4bab74b759bae8637a910d078",
            "aafec31901364f40970f1d6e3d5227b4",
            "becab0a042e14d79ba5a13d2c08d06e8",
            "252a23923ead413182b6de79314ed77d",
            "a1568f7f374548859ab971a0003473a0",
            "6e6c633933bc41ffbd61de43c2bfe468",
            "ba3a981639234e388a7dd8b53c1d0e82",
            "ab7e641b095e45b7842c039f52bf57bb",
            "d2cbc1f9666847729943a8f9575929bb",
            "ce2bcbd56b6d493c8a67f97d9050f7cb",
            "bdaab2dcdb254df0936bc5ab6c875101",
            "0cd84830608a4b33baf066a50065946d",
            "fc9c864ed3e04136b3274f9c266d392b",
            "31a00910a9f74691a4dfd1539d6da67f",
            "c75b44e0d5b840c8b186a140d4c61b6a",
            "6521b52fb83640d080823fee328a4a34",
            "057f520960f54f0b9f1f48b4093dd7d9",
            "7a4370204d184fea9432b73819e3a430",
            "00c066f7f96e4567aee640a3796f9fc9",
            "9966af35edeb4838bafef2ba2c8677df",
            "369701b1e009473282f428f7d60286ca",
            "bff966a530724d288d8d1eab6d21a16b",
            "c19f23b6ed334e0e8ce6e3bd050070c3",
            "58613f75ed4e43bf9f77f46899e68e64",
            "e50bd9008fe04305a22a496e2b9ff1ce",
            "846d4cf66f894affbfdd0fef83e63c68",
            "7900ff1834364ed78156bb75e7c7525c",
            "d312e90e802d4ac1a217083e9ad48edd",
            "b6939e47b3044e71ae99b33e8324b0e9",
            "5ed326ce27d147318aea91ea6eef0944",
            "3cf8cc5a8ae74d36bf6a4d973d1273d1",
            "fdfc3f20cc72420d8da4b25331fb0bec",
            "5e82d665fc834d1f894bd250197f4c34",
            "1cc03bfed65544da90941cb7c104dae5",
            "73f702d777cf461cb9e28303b2214db9",
            "5ef0d6e256284cbc8a58d2350b260591",
            "94c057e7b042426586e94e7fa6569173",
            "4b797482db5f4aeab91d3bfe4372d4fd",
            "f93d3935cee74db4b2585ab05faa6c97"
          ]
        },
        "id": "83yV8HuFfdnK",
        "outputId": "dabf8039-806b-4274-833a-334def9934e8"
      },
      "source": [
        "tokenizer = AutoTokenizer.from_pretrained('nlptown/bert-base-multilingual-uncased-sentiment')\n",
        "\n",
        "model = AutoModelForSequenceClassification.from_pretrained('nlptown/bert-base-multilingual-uncased-sentiment')"
      ],
      "execution_count": 3,
      "outputs": [
        {
          "output_type": "display_data",
          "data": {
            "application/vnd.jupyter.widget-view+json": {
              "model_id": "cddf0f59d1ae4a77ada1dbad8146e035",
              "version_minor": 0,
              "version_major": 2
            },
            "text/plain": [
              "HBox(children=(FloatProgress(value=0.0, description='Downloading', max=953.0, style=ProgressStyle(description_…"
            ]
          },
          "metadata": {
            "tags": []
          }
        },
        {
          "output_type": "stream",
          "text": [
            "\n"
          ],
          "name": "stdout"
        },
        {
          "output_type": "display_data",
          "data": {
            "application/vnd.jupyter.widget-view+json": {
              "model_id": "ab7e641b095e45b7842c039f52bf57bb",
              "version_minor": 0,
              "version_major": 2
            },
            "text/plain": [
              "HBox(children=(FloatProgress(value=0.0, description='Downloading', max=871891.0, style=ProgressStyle(descripti…"
            ]
          },
          "metadata": {
            "tags": []
          }
        },
        {
          "output_type": "stream",
          "text": [
            "\n"
          ],
          "name": "stdout"
        },
        {
          "output_type": "display_data",
          "data": {
            "application/vnd.jupyter.widget-view+json": {
              "model_id": "6521b52fb83640d080823fee328a4a34",
              "version_minor": 0,
              "version_major": 2
            },
            "text/plain": [
              "HBox(children=(FloatProgress(value=0.0, description='Downloading', max=112.0, style=ProgressStyle(description_…"
            ]
          },
          "metadata": {
            "tags": []
          }
        },
        {
          "output_type": "stream",
          "text": [
            "\n"
          ],
          "name": "stdout"
        },
        {
          "output_type": "display_data",
          "data": {
            "application/vnd.jupyter.widget-view+json": {
              "model_id": "58613f75ed4e43bf9f77f46899e68e64",
              "version_minor": 0,
              "version_major": 2
            },
            "text/plain": [
              "HBox(children=(FloatProgress(value=0.0, description='Downloading', max=39.0, style=ProgressStyle(description_w…"
            ]
          },
          "metadata": {
            "tags": []
          }
        },
        {
          "output_type": "stream",
          "text": [
            "\n"
          ],
          "name": "stdout"
        },
        {
          "output_type": "display_data",
          "data": {
            "application/vnd.jupyter.widget-view+json": {
              "model_id": "fdfc3f20cc72420d8da4b25331fb0bec",
              "version_minor": 0,
              "version_major": 2
            },
            "text/plain": [
              "HBox(children=(FloatProgress(value=0.0, description='Downloading', max=669491321.0, style=ProgressStyle(descri…"
            ]
          },
          "metadata": {
            "tags": []
          }
        },
        {
          "output_type": "stream",
          "text": [
            "\n"
          ],
          "name": "stdout"
        }
      ]
    },
    {
      "cell_type": "markdown",
      "metadata": {
        "id": "EWbSYMd1fdnL"
      },
      "source": [
        "# 3. Encode and Calculate Sentiment"
      ]
    },
    {
      "cell_type": "code",
      "metadata": {
        "id": "oJ-6s2q6fdnL"
      },
      "source": [
        "tokens = tokenizer.encode('It was good but couldve been better. Great', return_tensors='pt')"
      ],
      "execution_count": 4,
      "outputs": []
    },
    {
      "cell_type": "code",
      "metadata": {
        "id": "0YQ7T5GifdnL"
      },
      "source": [
        "result = model(tokens)"
      ],
      "execution_count": 5,
      "outputs": []
    },
    {
      "cell_type": "code",
      "metadata": {
        "colab": {
          "base_uri": "https://localhost:8080/"
        },
        "id": "joKfkufDfdnM",
        "outputId": "5666d46c-2bd2-498d-99b4-e442a22377b9"
      },
      "source": [
        "result.logits"
      ],
      "execution_count": 6,
      "outputs": [
        {
          "output_type": "execute_result",
          "data": {
            "text/plain": [
              "tensor([[-2.7768, -1.2353,  1.4419,  1.9804,  0.4584]],\n",
              "       grad_fn=<AddmmBackward>)"
            ]
          },
          "metadata": {
            "tags": []
          },
          "execution_count": 6
        }
      ]
    },
    {
      "cell_type": "code",
      "metadata": {
        "colab": {
          "base_uri": "https://localhost:8080/"
        },
        "id": "Xho31s5gfdnM",
        "outputId": "eac5b83a-8d28-4a50-8ea7-42a108cbb0ba"
      },
      "source": [
        "int(torch.argmax(result.logits))+1"
      ],
      "execution_count": 7,
      "outputs": [
        {
          "output_type": "execute_result",
          "data": {
            "text/plain": [
              "4"
            ]
          },
          "metadata": {
            "tags": []
          },
          "execution_count": 7
        }
      ]
    },
    {
      "cell_type": "markdown",
      "metadata": {
        "id": "uxJIX8NRfdnM"
      },
      "source": [
        "# 4. Collect Reviews"
      ]
    },
    {
      "cell_type": "code",
      "metadata": {
        "id": "MNNHrqi0fdnN"
      },
      "source": [
        "r = requests.get('https://www.yelp.com/biz/social-brew-cafe-pyrmont')\n",
        "soup = BeautifulSoup(r.text, 'html.parser')\n",
        "regex = re.compile('.*comment.*')\n",
        "results = soup.find_all('p', {'class':regex})\n",
        "reviews = [result.text for result in results]"
      ],
      "execution_count": 8,
      "outputs": []
    },
    {
      "cell_type": "code",
      "metadata": {
        "colab": {
          "base_uri": "https://localhost:8080/"
        },
        "id": "0VfJT2TsfdnN",
        "outputId": "bf0bfb73-adc1-4851-e3ef-3ff1fbfa6447"
      },
      "source": [
        "reviews"
      ],
      "execution_count": 9,
      "outputs": [
        {
          "output_type": "execute_result",
          "data": {
            "text/plain": [
              "['Still one of the favorite coffee shop in Sydney. Staffs have excellent knowledge about beans , flavor, brew skills. They make own pastries which are also tasty too.',\n",
              " 'Good coffee and toasts. Straight up and down - hits the spot with nothing mind blowing. Solid and tasty. \\xa0Good work',\n",
              " \"Ricotta hot cakes! These were so yummy. I ate them pretty fast and didn't share with anyone because they were that good ;). I ordered a green smoothie to balance it all out. Smoothie was a nice way to end my brekkie at this restaurant. Others with me ordered the salmon Benedict and the smoked salmon flatbread. They were all delicious and all plates were empty. Cheers!\",\n",
              " \"Ron & Jo are on the go down under and Wow! \\xa0We've found our breakfast place in Sydney and are coming back before we leave! \\xa0 I yelped you the Social Brew Cafe which was a few blocks from where we are staying so off we went. \\xa0They have seating outside and inside and it was a little chilly and they had a table available inside so we grabbed it. \\xa0The menu has a lot of tantalizing choices and our very nice waitress made some suggestions that we took. \\xa0Jo went with the ricotta pancakes with iced tea and I ordered the smoked salmon with a macchiato. \\xa0Our drinks were served quickly and my wife's crimson iced tea had a nice flavor and macchiato was served dark and rich. \\xa0Jo's pancakes came with a liberal number of fresh strawberries and the ricotta was spread between the first and second pancake with a pistachio butter (lots of ground pistachios) in between the second and third cake. \\xa0These pancakes were well presented and so delicious! \\xa0Jo order a side of bacon which was a crispy generous Canadian bacon that was so also tasty and a good accompaniment. \\xa0My smoked salmon had a mild smoke taste and the micro mesclun lettuce bed was went well with the flat bread and buttermilk dressing. \\xa0Very good! \\xa0We had a great meal and expect to come back in our short stay here. \\xa0Which says a lot! \\xa0I am Bookmarking the Social Brew Cafe! Food & Beverage 4.75 Great tasting food and cut above most breakfast places in presentation and taste! \\xa0I prefer a smokier salmon but I am nitpicking. \\xa0Service 5 Outstanding pleasant waitress was great and responsive.Atmosphere 4.5 Comfortable and cozy. Outdoor eating area as next to a green space which adds to the experience. Price 4.5 Great value for what you get for your dollar!OA 4.75 - I would be a regular here and we plan on coming back for another meal or two while we are here.Returned for a second time and had another awesome experience ordering the Mushroom Bruschetta. A thick slice of sourdough bread that mushrooms and two poached eggs with cream fresh and grated cheese flavored with truffles and pink of beef sausage. \\xa0I had the loaded double, a stack of two slices of bread that sandwich ham and melted cheese between and topped with a free range sunny side up egg. \\xa0They simply have some excellent food that is well prepared and presented. \\xa0Absolutely love going here!\",\n",
              " \"Great coffee and vibe. That's all \\xa0you need. Crab was outstanding but not good finger food like a taco should be. Really want to try the pork belly sandwich - looked excellent. This became my go to breakfast place in Darling harbor. Had the avocado salmon salad breakfast and it was excellent. Service has been excellent.\",\n",
              " \"Great coffee and vibe. That's all \\xa0you need. Crab was outstanding but not good finger food like a taco should be. Really want to try the pork belly sandwich - looked excellent.\",\n",
              " \"We came for brunch twice in our week-long visit to Sydney. Everything on the menu not only sounds delicious, but is really tasty. It really gave us a sour taste of how bad breaky is in America with what's so readily available in Sydney! \\xa0Both days we went were Saturdays and there was a bit of a wait to be seated, the cafe is extremely busy for both dine-in and take-away. Service is fairly quick and servers are all friendly. The location is in Surrey Hills a couple blocks away from the bustling touristy Darling Harbor.The green smoothie is very tasty and refreshing. We tried the smoked salmon salad, the soft shell crab tacos, ricotta hotcakes, and the breaky sandwich. All were delicious, well seasoned, and a solid amount of food for the price. A definite recommend for anyone's trip into Sydney!\",\n",
              " 'This is my fave brunch café in and around Sydney. Just love the ambience, food and drink selection. Keep up the good work and rest assured we will be back again soon!',\n",
              " \"Delicious. The waitress was hot. The burger was juicy but messy that was the only thing I didn't like but food was delicious service was great. Went for breakfast on a Monday.\",\n",
              " 'Rainy day in Sydney. Borrowed an umbrella and made my way to Social Brew. Well worth a walk in the raIn. Busy place with more locals than tourists, always a good sign. The Eggs Benedict with smoked trout was perfect.',\n",
              " 'This cafe is one of the most popular cafes where we can enjoy eating nice breakfast in many kind of elaborated menus. When l visited there, most of the tables were almost fulled with the guests.I ordered a hot cake with strawberries and a cup of flat white. The taste was great, the service was kind, and the atmosphere was cool.']"
            ]
          },
          "metadata": {
            "tags": []
          },
          "execution_count": 9
        }
      ]
    },
    {
      "cell_type": "markdown",
      "metadata": {
        "id": "oG0UUX7rfdnN"
      },
      "source": [
        "# 5. Load Reviews into DataFrame and Score"
      ]
    },
    {
      "cell_type": "code",
      "metadata": {
        "id": "2V_p8_bsfdnN"
      },
      "source": [
        "import numpy as np\n",
        "import pandas as pd"
      ],
      "execution_count": 10,
      "outputs": []
    },
    {
      "cell_type": "code",
      "metadata": {
        "id": "ZygybYqYfdnO"
      },
      "source": [
        "df = pd.DataFrame(np.array(reviews), columns=['review'])"
      ],
      "execution_count": 11,
      "outputs": []
    },
    {
      "cell_type": "code",
      "metadata": {
        "colab": {
          "base_uri": "https://localhost:8080/",
          "height": 52
        },
        "id": "J_0TogMZfdnO",
        "outputId": "611f18f0-44bc-4e6f-d1e1-952711378ef4"
      },
      "source": [
        "df['review'].iloc[0]"
      ],
      "execution_count": 12,
      "outputs": [
        {
          "output_type": "execute_result",
          "data": {
            "application/vnd.google.colaboratory.intrinsic+json": {
              "type": "string"
            },
            "text/plain": [
              "'Still one of the favorite coffee shop in Sydney. Staffs have excellent knowledge about beans , flavor, brew skills. They make own pastries which are also tasty too.'"
            ]
          },
          "metadata": {
            "tags": []
          },
          "execution_count": 12
        }
      ]
    },
    {
      "cell_type": "code",
      "metadata": {
        "id": "q7GmLhiSfdnO"
      },
      "source": [
        "def sentiment_score(review):\n",
        "    tokens = tokenizer.encode(review, return_tensors='pt')\n",
        "    result = model(tokens)\n",
        "    return int(torch.argmax(result.logits))+1"
      ],
      "execution_count": 13,
      "outputs": []
    },
    {
      "cell_type": "code",
      "metadata": {
        "colab": {
          "base_uri": "https://localhost:8080/"
        },
        "id": "bD7TvwpWfdnP",
        "outputId": "f0c60c58-40f4-4394-a56b-4f55f163ec40"
      },
      "source": [
        "sentiment_score(df['review'].iloc[1])"
      ],
      "execution_count": 15,
      "outputs": [
        {
          "output_type": "execute_result",
          "data": {
            "text/plain": [
              "5"
            ]
          },
          "metadata": {
            "tags": []
          },
          "execution_count": 15
        }
      ]
    },
    {
      "cell_type": "code",
      "metadata": {
        "id": "ep8g97AdfdnP"
      },
      "source": [
        "df['sentiment'] = df['review'].apply(lambda x: sentiment_score(x[:512]))"
      ],
      "execution_count": 16,
      "outputs": []
    },
    {
      "cell_type": "code",
      "metadata": {
        "colab": {
          "base_uri": "https://localhost:8080/",
          "height": 390
        },
        "id": "clFo4eDqfdnP",
        "outputId": "59778a7a-3670-42ef-d77b-780ab09c3f8c"
      },
      "source": [
        "df"
      ],
      "execution_count": 17,
      "outputs": [
        {
          "output_type": "execute_result",
          "data": {
            "text/html": [
              "<div>\n",
              "<style scoped>\n",
              "    .dataframe tbody tr th:only-of-type {\n",
              "        vertical-align: middle;\n",
              "    }\n",
              "\n",
              "    .dataframe tbody tr th {\n",
              "        vertical-align: top;\n",
              "    }\n",
              "\n",
              "    .dataframe thead th {\n",
              "        text-align: right;\n",
              "    }\n",
              "</style>\n",
              "<table border=\"1\" class=\"dataframe\">\n",
              "  <thead>\n",
              "    <tr style=\"text-align: right;\">\n",
              "      <th></th>\n",
              "      <th>review</th>\n",
              "      <th>sentiment</th>\n",
              "    </tr>\n",
              "  </thead>\n",
              "  <tbody>\n",
              "    <tr>\n",
              "      <th>0</th>\n",
              "      <td>Still one of the favorite coffee shop in Sydne...</td>\n",
              "      <td>5</td>\n",
              "    </tr>\n",
              "    <tr>\n",
              "      <th>1</th>\n",
              "      <td>Good coffee and toasts. Straight up and down -...</td>\n",
              "      <td>5</td>\n",
              "    </tr>\n",
              "    <tr>\n",
              "      <th>2</th>\n",
              "      <td>Ricotta hot cakes! These were so yummy. I ate ...</td>\n",
              "      <td>5</td>\n",
              "    </tr>\n",
              "    <tr>\n",
              "      <th>3</th>\n",
              "      <td>Ron &amp; Jo are on the go down under and Wow!  We...</td>\n",
              "      <td>5</td>\n",
              "    </tr>\n",
              "    <tr>\n",
              "      <th>4</th>\n",
              "      <td>Great coffee and vibe. That's all  you need. C...</td>\n",
              "      <td>5</td>\n",
              "    </tr>\n",
              "    <tr>\n",
              "      <th>5</th>\n",
              "      <td>Great coffee and vibe. That's all  you need. C...</td>\n",
              "      <td>4</td>\n",
              "    </tr>\n",
              "    <tr>\n",
              "      <th>6</th>\n",
              "      <td>We came for brunch twice in our week-long visi...</td>\n",
              "      <td>4</td>\n",
              "    </tr>\n",
              "    <tr>\n",
              "      <th>7</th>\n",
              "      <td>This is my fave brunch café in and around Sydn...</td>\n",
              "      <td>5</td>\n",
              "    </tr>\n",
              "    <tr>\n",
              "      <th>8</th>\n",
              "      <td>Delicious. The waitress was hot. The burger wa...</td>\n",
              "      <td>4</td>\n",
              "    </tr>\n",
              "    <tr>\n",
              "      <th>9</th>\n",
              "      <td>Rainy day in Sydney. Borrowed an umbrella and ...</td>\n",
              "      <td>5</td>\n",
              "    </tr>\n",
              "    <tr>\n",
              "      <th>10</th>\n",
              "      <td>This cafe is one of the most popular cafes whe...</td>\n",
              "      <td>5</td>\n",
              "    </tr>\n",
              "  </tbody>\n",
              "</table>\n",
              "</div>"
            ],
            "text/plain": [
              "                                               review  sentiment\n",
              "0   Still one of the favorite coffee shop in Sydne...          5\n",
              "1   Good coffee and toasts. Straight up and down -...          5\n",
              "2   Ricotta hot cakes! These were so yummy. I ate ...          5\n",
              "3   Ron & Jo are on the go down under and Wow!  We...          5\n",
              "4   Great coffee and vibe. That's all  you need. C...          5\n",
              "5   Great coffee and vibe. That's all  you need. C...          4\n",
              "6   We came for brunch twice in our week-long visi...          4\n",
              "7   This is my fave brunch café in and around Sydn...          5\n",
              "8   Delicious. The waitress was hot. The burger wa...          4\n",
              "9   Rainy day in Sydney. Borrowed an umbrella and ...          5\n",
              "10  This cafe is one of the most popular cafes whe...          5"
            ]
          },
          "metadata": {
            "tags": []
          },
          "execution_count": 17
        }
      ]
    },
    {
      "cell_type": "code",
      "metadata": {
        "colab": {
          "base_uri": "https://localhost:8080/",
          "height": 154
        },
        "id": "TOtLT0QPfdnP",
        "outputId": "2711ae2a-7e0a-4978-e375-cd264801db3f"
      },
      "source": [
        "df['review'].iloc[3]"
      ],
      "execution_count": 18,
      "outputs": [
        {
          "output_type": "execute_result",
          "data": {
            "application/vnd.google.colaboratory.intrinsic+json": {
              "type": "string"
            },
            "text/plain": [
              "\"Ron & Jo are on the go down under and Wow! \\xa0We've found our breakfast place in Sydney and are coming back before we leave! \\xa0 I yelped you the Social Brew Cafe which was a few blocks from where we are staying so off we went. \\xa0They have seating outside and inside and it was a little chilly and they had a table available inside so we grabbed it. \\xa0The menu has a lot of tantalizing choices and our very nice waitress made some suggestions that we took. \\xa0Jo went with the ricotta pancakes with iced tea and I ordered the smoked salmon with a macchiato. \\xa0Our drinks were served quickly and my wife's crimson iced tea had a nice flavor and macchiato was served dark and rich. \\xa0Jo's pancakes came with a liberal number of fresh strawberries and the ricotta was spread between the first and second pancake with a pistachio butter (lots of ground pistachios) in between the second and third cake. \\xa0These pancakes were well presented and so delicious! \\xa0Jo order a side of bacon which was a crispy generous Canadian bacon that was so also tasty and a good accompaniment. \\xa0My smoked salmon had a mild smoke taste and the micro mesclun lettuce bed was went well with the flat bread and buttermilk dressing. \\xa0Very good! \\xa0We had a great meal and expect to come back in our short stay here. \\xa0Which says a lot! \\xa0I am Bookmarking the Social Brew Cafe! Food & Beverage 4.75 Great tasting food and cut above most breakfast places in presentation and taste! \\xa0I prefer a smokier salmon but I am nitpicking. \\xa0Service 5 Outstanding pleasant waitress was great and responsive.Atmosphere 4.5 Comfortable and cozy. Outdoor eating area as next to a green space which adds to the experience. Price 4.5 Great value for what you get for your dollar!OA 4.75 - I would be a regular here and we plan on coming back for another meal or two while we are here.Returned for a second time and had another awesome experience ordering the Mushroom Bruschetta. A thick slice of sourdough bread that mushrooms and two poached eggs with cream fresh and grated cheese flavored with truffles and pink of beef sausage. \\xa0I had the loaded double, a stack of two slices of bread that sandwich ham and melted cheese between and topped with a free range sunny side up egg. \\xa0They simply have some excellent food that is well prepared and presented. \\xa0Absolutely love going here!\""
            ]
          },
          "metadata": {
            "tags": []
          },
          "execution_count": 18
        }
      ]
    }
  ]
}